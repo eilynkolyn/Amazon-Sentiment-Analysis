{
 "cells": [
  {
   "cell_type": "code",
   "execution_count": 1,
   "id": "f6517fd0",
   "metadata": {},
   "outputs": [],
   "source": [
    "# Loading libraries\n",
    "import os\n",
    "import pandas as pd\n",
    "import numpy as np\n",
    "import pickle\n",
    "import re\n",
    "import nltk\n",
    "import matplotlib.pyplot as plt\n",
    "import tensorflow as tf\n",
    "\n",
    "from gensim.models import Word2Vec\n",
    "from nltk.tokenize import word_tokenize\n",
    "from nltk.corpus import stopwords\n",
    "from tensorflow.keras.preprocessing.text import Tokenizer\n",
    "from tensorflow.keras.preprocessing.sequence import pad_sequences\n",
    "from tensorflow.keras.utils import Sequence\n",
    "from sklearn.model_selection import train_test_split\n",
    "from tensorflow.keras.models import Sequential\n",
    "from tensorflow.keras.layers import Embedding, Conv1D, MaxPooling1D, LSTM, Dense, Dropout\n",
    "from tensorflow.keras.models import load_model\n",
    "from tensorflow.keras.callbacks import ModelCheckpoint, EarlyStopping"
   ]
  },
  {
   "cell_type": "code",
   "execution_count": 2,
   "id": "ca553b2c",
   "metadata": {},
   "outputs": [
    {
     "name": "stderr",
     "output_type": "stream",
     "text": [
      "[nltk_data] Downloading package stopwords to\n",
      "[nltk_data]     C:\\Users\\Bill\\AppData\\Roaming\\nltk_data...\n",
      "[nltk_data]   Package stopwords is already up-to-date!\n",
      "[nltk_data] Downloading package punkt to\n",
      "[nltk_data]     C:\\Users\\Bill\\AppData\\Roaming\\nltk_data...\n",
      "[nltk_data]   Package punkt is already up-to-date!\n",
      "[nltk_data] Downloading package punkt_tab to\n",
      "[nltk_data]     C:\\Users\\Bill\\AppData\\Roaming\\nltk_data...\n",
      "[nltk_data]   Package punkt_tab is already up-to-date!\n"
     ]
    },
    {
     "data": {
      "text/plain": [
       "True"
      ]
     },
     "execution_count": 2,
     "metadata": {},
     "output_type": "execute_result"
    }
   ],
   "source": [
    "\n",
    "# Download NLTK resources\n",
    "nltk.download('stopwords')\n",
    "nltk.download('punkt')\n",
    "nltk.download('punkt_tab')"
   ]
  },
  {
   "cell_type": "code",
   "execution_count": 3,
   "id": "662e6da9",
   "metadata": {},
   "outputs": [],
   "source": [
    "# Loading the dataset\n",
    "\n",
    "def load_reviews(folder_path, domain_name):\n",
    "    data = []\n",
    "    labels = []\n",
    "\n",
    "    for label in ['positive', 'negative']:\n",
    "        file_path = os.path.join(folder_path, f\"{label}.review\")\n",
    "        if os.path.exists(file_path):\n",
    "            with open(file_path, encoding='utf-8') as file:\n",
    "                reviews = file.readlines()\n",
    "                data.extend(reviews)\n",
    "                labels.extend([1 if label == 'positive' else 0] * len(reviews))\n",
    "\n",
    "    return pd.DataFrame({'text': data, 'label': labels, 'category': domain_name})\n",
    "\n",
    "\n",
    "def load_unlabeled(folder_path, domain_name):\n",
    "    file_path = os.path.join(folder_path, \"unlabeled.review\")\n",
    "    if os.path.exists(file_path):\n",
    "        with open(file_path, encoding='utf-8') as file:\n",
    "            reviews = file.readlines()\n",
    "            return pd.DataFrame({'text': reviews, 'label': None, 'category': domain_name})\n",
    "    return pd.DataFrame(columns=['text', 'label', 'category'])\n"
   ]
  },
  {
   "cell_type": "code",
   "execution_count": 4,
   "id": "d9fc6770",
   "metadata": {},
   "outputs": [
    {
     "name": "stdout",
     "output_type": "stream",
     "text": [
      "Labeled Data: (299239, 3)\n",
      "Unlabeled Data: (2431195, 3)\n"
     ]
    }
   ],
   "source": [
    "# Base path\n",
    "base_dir = \"sorted_data_acl\"\n",
    "\n",
    "# Domains and their respective folders\n",
    "domains = {\n",
    "    \"books\": os.path.join(base_dir, \"books\"),\n",
    "    \"dvd\": os.path.join(base_dir, \"dvd\"),\n",
    "    \"electronics\": os.path.join(base_dir, \"electronics\"),\n",
    "    \"kitchen\": os.path.join(base_dir, \"kitchen_&_housewares\")\n",
    "}\n",
    "\n",
    "# Load labeled data\n",
    "labeled_dfs = [load_reviews(path, domain) for domain, path in domains.items()]\n",
    "\n",
    "# Load unlabeled data\n",
    "unlabeled_dfs = []\n",
    "for domain, path in domains.items():\n",
    "    if domain == \"books\":\n",
    "        unlabeled_path = os.path.join(base_dir, \"books.unlabeled\")\n",
    "    else:\n",
    "        unlabeled_path = path\n",
    "    unlabeled_dfs.append(load_unlabeled(unlabeled_path, domain))\n",
    "\n",
    "# Combine all data\n",
    "labeled_data = pd.concat(labeled_dfs).reset_index(drop=True)\n",
    "unlabeled_data = pd.concat(unlabeled_dfs).reset_index(drop=True)\n",
    "\n",
    "print(\"Labeled Data:\", labeled_data.shape)\n",
    "print(\"Unlabeled Data:\", unlabeled_data.shape)"
   ]
  },
  {
   "cell_type": "code",
   "execution_count": 5,
   "id": "ed763a3c",
   "metadata": {},
   "outputs": [],
   "source": [
    "stop_words = set(stopwords.words('english'))\n",
    "\n",
    "def clean_text(text):\n",
    "    # Lowercase\n",
    "    text = text.lower()\n",
    "    # Remove HTML tags, punctuation, and numbers\n",
    "    text = re.sub(r'<.*?>', '', text)  # Remove HTML tags\n",
    "    text = re.sub(r'[^a-z\\s]', '', text)  # Remove punctuation and digits\n",
    "    # Tokenize and remove stopwords\n",
    "    words = nltk.word_tokenize(text)\n",
    "    words = [word for word in words if word not in stop_words]\n",
    "    # Join words back to string\n",
    "    return ' '.join(words)"
   ]
  },
  {
   "cell_type": "markdown",
   "id": "b16a5245",
   "metadata": {},
   "source": [
    "## Preprocess and Clean the Labeled Data"
   ]
  },
  {
   "cell_type": "markdown",
   "id": "aef7d946",
   "metadata": {},
   "source": [
    "### Train Custom Word Embeddings"
   ]
  },
  {
   "cell_type": "code",
   "execution_count": 6,
   "id": "f2c57a90",
   "metadata": {},
   "outputs": [
    {
     "name": "stdout",
     "output_type": "stream",
     "text": [
      "Cleaned and filtered labeled data: (30534, 4)\n"
     ]
    },
    {
     "data": {
      "text/html": [
       "<div>\n",
       "<style scoped>\n",
       "    .dataframe tbody tr th:only-of-type {\n",
       "        vertical-align: middle;\n",
       "    }\n",
       "\n",
       "    .dataframe tbody tr th {\n",
       "        vertical-align: top;\n",
       "    }\n",
       "\n",
       "    .dataframe thead th {\n",
       "        text-align: right;\n",
       "    }\n",
       "</style>\n",
       "<table border=\"1\" class=\"dataframe\">\n",
       "  <thead>\n",
       "    <tr style=\"text-align: right;\">\n",
       "      <th></th>\n",
       "      <th>clean_text</th>\n",
       "      <th>label</th>\n",
       "      <th>category</th>\n",
       "    </tr>\n",
       "  </thead>\n",
       "  <tbody>\n",
       "    <tr>\n",
       "      <th>0</th>\n",
       "      <td>sphere books michael crichton</td>\n",
       "      <td>1</td>\n",
       "      <td>books</td>\n",
       "    </tr>\n",
       "    <tr>\n",
       "      <th>1</th>\n",
       "      <td>one best crichton novels</td>\n",
       "      <td>1</td>\n",
       "      <td>books</td>\n",
       "    </tr>\n",
       "    <tr>\n",
       "      <th>2</th>\n",
       "      <td>sphere michael crichton excellant novel certai...</td>\n",
       "      <td>1</td>\n",
       "      <td>books</td>\n",
       "    </tr>\n",
       "    <tr>\n",
       "      <th>3</th>\n",
       "      <td>story revolves around man named norman johnson...</td>\n",
       "      <td>1</td>\n",
       "      <td>books</td>\n",
       "    </tr>\n",
       "    <tr>\n",
       "      <th>4</th>\n",
       "      <td>novel research crichton novels still lot infor...</td>\n",
       "      <td>1</td>\n",
       "      <td>books</td>\n",
       "    </tr>\n",
       "  </tbody>\n",
       "</table>\n",
       "</div>"
      ],
      "text/plain": [
       "                                          clean_text  label category\n",
       "0                      sphere books michael crichton      1    books\n",
       "1                           one best crichton novels      1    books\n",
       "2  sphere michael crichton excellant novel certai...      1    books\n",
       "3  story revolves around man named norman johnson...      1    books\n",
       "4  novel research crichton novels still lot infor...      1    books"
      ]
     },
     "execution_count": 6,
     "metadata": {},
     "output_type": "execute_result"
    }
   ],
   "source": [
    "# Clean the reviews\n",
    "labeled_data['clean_text'] = labeled_data['text'].apply(clean_text)\n",
    "\n",
    "# Remove outliers: very short or empty reviews\n",
    "labeled_data = labeled_data[labeled_data['clean_text'].apply(lambda x: len(x.split()) > 3)]\n",
    "\n",
    "# Reset index after filtering\n",
    "labeled_data = labeled_data.reset_index(drop=True)\n",
    "\n",
    "print(\"Cleaned and filtered labeled data:\", labeled_data.shape)\n",
    "labeled_data[['clean_text', 'label', 'category']].head()"
   ]
  },
  {
   "cell_type": "code",
   "execution_count": 7,
   "id": "cc1565e4",
   "metadata": {},
   "outputs": [],
   "source": [
    "# Combine all text (labeled + unlabeled)\n",
    "all_reviews = pd.concat([labeled_data['clean_text'], unlabeled_data['text'].dropna().apply(clean_text)])\n",
    "\n",
    "# Tokenize for Word2Vec training\n",
    "sentences = [word_tokenize(text) for text in all_reviews]\n"
   ]
  },
  {
   "cell_type": "code",
   "execution_count": 8,
   "id": "f07d1cb7",
   "metadata": {},
   "outputs": [],
   "source": [
    "# Train Word2Vec\n",
    "w2v_model = Word2Vec(sentences, vector_size=100, window=5, min_count=2, workers=4)\n",
    "w2v_model.save(\"Custom_Embedding/custom_w2v.model\")\n"
   ]
  },
  {
   "cell_type": "markdown",
   "id": "b83cae4c",
   "metadata": {},
   "source": [
    "### Tokenization & Padding"
   ]
  },
  {
   "cell_type": "code",
   "execution_count": 9,
   "id": "4beba9a6",
   "metadata": {},
   "outputs": [],
   "source": [
    "# Tokenizer configuration\n",
    "vocab_size = 5000\n",
    "max_length = 100\n",
    "oov_token = \"<OOV>\"\n",
    "\n",
    "# Fit tokenizer\n",
    "tokenizer = Tokenizer(num_words=vocab_size, oov_token=oov_token)\n",
    "tokenizer.fit_on_texts(labeled_data['clean_text'])\n",
    "\n",
    "# Convert text to sequences\n",
    "sequences = tokenizer.texts_to_sequences(labeled_data['clean_text'])\n",
    "\n",
    "# Pad sequences to ensure equal length\n",
    "padded_sequences = pad_sequences(sequences, maxlen=max_length, padding='post', truncating='post')\n",
    "\n",
    "\n",
    "# Save tokenizer to a file\n",
    "with open(\"sentiment_app/tokenizer.pkl\", \"wb\") as f:\n",
    "    pickle.dump(tokenizer, f)"
   ]
  },
  {
   "cell_type": "code",
   "execution_count": 10,
   "metadata": {},
   "outputs": [],
   "source": [
    "embedding_matrix = np.zeros((len(tokenizer.word_index) + 1, 100))\n",
    "for word, i in tokenizer.word_index.items():\n",
    "    if word in w2v_model.wv:\n",
    "        embedding_matrix[i] = w2v_model.wv[word]\n",
    "\n",
    "from tensorflow.keras.layers import Embedding\n",
    "\n",
    "embedding_layer = Embedding(\n",
    "    input_dim=embedding_matrix.shape[0],\n",
    "    output_dim=embedding_matrix.shape[1],\n",
    "    weights=[embedding_matrix],\n",
    "    input_length=100,\n",
    "    trainable=True  # Set to True if you want to fine-tune embeddings\n",
    ")\n"
   ]
  },
  {
   "cell_type": "markdown",
   "id": "678ce3a4",
   "metadata": {},
   "source": [
    "### Preparing  Features and Labels"
   ]
  },
  {
   "cell_type": "code",
   "execution_count": 11,
   "id": "80bd0e6d",
   "metadata": {},
   "outputs": [
    {
     "name": "stdout",
     "output_type": "stream",
     "text": [
      "X shape: (30534, 100)\n",
      "y shape: (30534,)\n"
     ]
    }
   ],
   "source": [
    "X = padded_sequences\n",
    "y = np.array(labeled_data['label'])  # Already 0 (negative) and 1 (positive)\n",
    "\n",
    "print(\"X shape:\", X.shape)\n",
    "print(\"y shape:\", y.shape)\n"
   ]
  },
  {
   "cell_type": "markdown",
   "id": "ed58fd82",
   "metadata": {},
   "source": [
    "### View Tokenizer Summary"
   ]
  },
  {
   "cell_type": "code",
   "execution_count": 12,
   "metadata": {},
   "outputs": [
    {
     "name": "stdout",
     "output_type": "stream",
     "text": [
      "Tokenizer vocab size (words in use): 69815\n",
      "Example sequence: [1, 8, 370, 3611]\n",
      "Example padded: [   1    8  370 3611    0    0    0    0    0    0    0    0    0    0\n",
      "    0    0    0    0    0    0    0    0    0    0    0    0    0    0\n",
      "    0    0    0    0    0    0    0    0    0    0    0    0    0    0\n",
      "    0    0    0    0    0    0    0    0    0    0    0    0    0    0\n",
      "    0    0    0    0    0    0    0    0    0    0    0    0    0    0\n",
      "    0    0    0    0    0    0    0    0    0    0    0    0    0    0\n",
      "    0    0    0    0    0    0    0    0    0    0    0    0    0    0\n",
      "    0    0]\n"
     ]
    }
   ],
   "source": [
    "print(\"Tokenizer vocab size (words in use):\", len(tokenizer.word_index))\n",
    "print(\"Example sequence:\", sequences[0])\n",
    "print(\"Example padded:\", X[0])\n"
   ]
  },
  {
   "cell_type": "markdown",
   "id": "a50a2f70",
   "metadata": {},
   "source": [
    "## Splitting the Data"
   ]
  },
  {
   "cell_type": "code",
   "execution_count": 13,
   "id": "3f31739d",
   "metadata": {},
   "outputs": [
    {
     "name": "stdout",
     "output_type": "stream",
     "text": [
      "Train size: 24427\n",
      "Validation size: 3053\n",
      "Test size: 3054\n"
     ]
    }
   ],
   "source": [
    "\n",
    "# Step 1: Split into training + temp (80% training, 20% temp)\n",
    "X_train, X_temp, y_train, y_temp = train_test_split(X, y, test_size=0.2, stratify=y, random_state=42)\n",
    "\n",
    "# Step 2: Split temp into validation and test (50% of temp each = 10% of total data each)\n",
    "X_val, X_test, y_val, y_test = train_test_split(X_temp, y_temp, test_size=0.5, stratify=y_temp, random_state=42)\n",
    "\n",
    "# Print the sizes\n",
    "print(f\"Train size: {X_train.shape[0]}\")\n",
    "print(f\"Validation size: {X_val.shape[0]}\")\n",
    "print(f\"Test size: {X_test.shape[0]}\")\n"
   ]
  },
  {
   "cell_type": "markdown",
   "id": "ab55b4fa",
   "metadata": {},
   "source": [
    "## Define and Compile the CNN + LSTM Model"
   ]
  },
  {
   "cell_type": "markdown",
   "id": "cc28e19f",
   "metadata": {},
   "source": [
    "This hybrid model:\n",
    "\n",
    "* CNN - Captures local patterns (like phrases \"not good\", \"really bad\")\n",
    "\n",
    "* LSTM - Learns sequential dependencies and context\n",
    "\n",
    "Model Architecture Summary\n",
    "* Embedding Layer - Transforms word indices into dense vectors\n",
    "\n",
    "* Conv1D Layer - Extracts local features (n-grams)\n",
    "\n",
    "* MaxPooling1D - Reduces spatial dimension\n",
    "\n",
    "* LSTM - Captures word dependencies\n",
    "\n",
    "* Dense Layer - Outputs binary classification (positive/negative)"
   ]
  },
  {
   "cell_type": "code",
   "execution_count": 14,
   "metadata": {},
   "outputs": [
    {
     "name": "stdout",
     "output_type": "stream",
     "text": [
      "Model: \"sequential\"\n",
      "_________________________________________________________________\n",
      " Layer (type)                Output Shape              Param #   \n",
      "=================================================================\n",
      " embedding (Embedding)       (None, 100, 100)          6981600   \n",
      "                                                                 \n",
      " conv1d (Conv1D)             (None, 96, 64)            32064     \n",
      "                                                                 \n",
      " max_pooling1d (MaxPooling1D  (None, 48, 64)           0         \n",
      " )                                                               \n",
      "                                                                 \n",
      " lstm (LSTM)                 (None, 64)                33024     \n",
      "                                                                 \n",
      " dropout (Dropout)           (None, 64)                0         \n",
      "                                                                 \n",
      " dense (Dense)               (None, 1)                 65        \n",
      "                                                                 \n",
      "=================================================================\n",
      "Total params: 7,046,753\n",
      "Trainable params: 7,046,753\n",
      "Non-trainable params: 0\n",
      "_________________________________________________________________\n"
     ]
    }
   ],
   "source": [
    "# Hyperparameters\n",
    "embedding_dim = 100\n",
    "num_filters = 64\n",
    "kernel_size = 5\n",
    "lstm_units = 64\n",
    "dropout_rate = 0.5\n",
    "\n",
    "model = Sequential([\n",
    "    embedding_layer,  # Use pretrained Word2Vec embedding layer\n",
    "    Conv1D(filters=num_filters, kernel_size=kernel_size, activation='relu'),\n",
    "    MaxPooling1D(pool_size=2),\n",
    "    LSTM(lstm_units),\n",
    "    Dropout(dropout_rate),\n",
    "    Dense(1, activation='sigmoid')\n",
    "])\n",
    "\n",
    "optimizer = tf.keras.optimizers.Adam(learning_rate=0.001)\n",
    "\n",
    "\n",
    "model.compile(loss='binary_crossentropy', optimizer=optimizer, metrics=['accuracy'])\n",
    "model.summary()"
   ]
  },
  {
   "cell_type": "markdown",
   "id": "0fcd54e7",
   "metadata": {},
   "source": [
    "### Train the Model and Adding Checkpointing"
   ]
  },
  {
   "cell_type": "code",
   "execution_count": 15,
   "id": "7abf2fab",
   "metadata": {},
   "outputs": [],
   "source": [
    "# Data Generator to obtain batches of training and validation sets\n",
    "\n",
    "# class DataGenerator(Sequence):\n",
    "#     def __init__(self, X, y, batch_size=32, shuffle=True):\n",
    "#         self.X = X\n",
    "#         self.y = y\n",
    "#         self.batch_size = batch_size\n",
    "#         self.shuffle = shuffle\n",
    "#         self.indexes = np.arange(len(self.X))\n",
    "#         if self.shuffle:\n",
    "#             np.random.shuffle(self.indexes)\n",
    "\n",
    "#     def __len__(self):\n",
    "#         return int(np.floor(len(self.X) / self.batch_size))\n",
    "\n",
    "#     def __getitem__(self, index):\n",
    "#         indexes = self.indexes[index * self.batch_size:(index + 1) * self.batch_size]\n",
    "#         batch_X = np.array([self.X[i] for i in indexes])\n",
    "#         batch_y = np.array([self.y[i] for i in indexes])\n",
    "#         return batch_X, batch_y\n",
    "\n",
    "#     def on_epoch_end(self):\n",
    "#         if self.shuffle:\n",
    "#             np.random.shuffle(self.indexes)\n"
   ]
  },
  {
   "cell_type": "code",
   "execution_count": 16,
   "id": "175ef59b",
   "metadata": {},
   "outputs": [],
   "source": [
    "#  Converting your entire training pipeline (train, validation, and test)\n",
    "#  to use tf.data.Dataset will improve efficiency, scalability, and TensorFlow compatibility.\n",
    "\n",
    "def create_dataset(X, y, batch_size=32, shuffle=True):\n",
    "    ds = tf.data.Dataset.from_tensor_slices((X, y))\n",
    "    if shuffle:\n",
    "        ds = ds.shuffle(buffer_size=len(X))\n",
    "    ds = ds.batch(batch_size).prefetch(tf.data.AUTOTUNE)\n",
    "    return ds\n",
    "\n",
    "\n",
    "batch_size = 32\n",
    "\n",
    "train_dataset = create_dataset(X_train, y_train, batch_size=batch_size, shuffle=True)\n",
    "val_dataset = create_dataset(X_val, y_val, batch_size=batch_size, shuffle=False)\n",
    "test_dataset = create_dataset(X_test, y_test, batch_size=batch_size, shuffle=False)"
   ]
  },
  {
   "cell_type": "code",
   "execution_count": 17,
   "id": "4b820f72",
   "metadata": {},
   "outputs": [
    {
     "name": "stdout",
     "output_type": "stream",
     "text": [
      "Epoch 1/15\n",
      "\n",
      "Epoch 1: val_accuracy improved from -inf to 0.56371, saving model to model\\best_model.h5\n",
      "764/764 - 85s - loss: 0.6937 - accuracy: 0.5071 - val_loss: 0.6771 - val_accuracy: 0.5637 - 85s/epoch - 111ms/step\n",
      "Epoch 2/15\n",
      "\n",
      "Epoch 2: val_accuracy improved from 0.56371 to 0.59712, saving model to model\\best_model.h5\n",
      "764/764 - 84s - loss: 0.6797 - accuracy: 0.5713 - val_loss: 0.6631 - val_accuracy: 0.5971 - 84s/epoch - 110ms/step\n",
      "Epoch 3/15\n",
      "\n",
      "Epoch 3: val_accuracy improved from 0.59712 to 0.64297, saving model to model\\best_model.h5\n",
      "764/764 - 88s - loss: 0.6356 - accuracy: 0.6299 - val_loss: 0.6192 - val_accuracy: 0.6430 - 88s/epoch - 115ms/step\n",
      "Epoch 4/15\n",
      "\n",
      "Epoch 4: val_accuracy improved from 0.64297 to 0.65935, saving model to model\\best_model.h5\n",
      "764/764 - 86s - loss: 0.5943 - accuracy: 0.6689 - val_loss: 0.5943 - val_accuracy: 0.6594 - 86s/epoch - 112ms/step\n",
      "Epoch 5/15\n",
      "\n",
      "Epoch 5: val_accuracy improved from 0.65935 to 0.66983, saving model to model\\best_model.h5\n",
      "764/764 - 80s - loss: 0.5487 - accuracy: 0.7022 - val_loss: 0.5924 - val_accuracy: 0.6698 - 80s/epoch - 105ms/step\n",
      "Epoch 6/15\n",
      "\n",
      "Epoch 6: val_accuracy improved from 0.66983 to 0.67180, saving model to model\\best_model.h5\n",
      "764/764 - 82s - loss: 0.5066 - accuracy: 0.7333 - val_loss: 0.6184 - val_accuracy: 0.6718 - 82s/epoch - 108ms/step\n",
      "Epoch 7/15\n",
      "\n",
      "Epoch 7: val_accuracy improved from 0.67180 to 0.67638, saving model to model\\best_model.h5\n",
      "764/764 - 79s - loss: 0.4656 - accuracy: 0.7609 - val_loss: 0.5881 - val_accuracy: 0.6764 - 79s/epoch - 104ms/step\n",
      "Epoch 8/15\n",
      "\n",
      "Epoch 8: val_accuracy did not improve from 0.67638\n",
      "764/764 - 80s - loss: 0.4181 - accuracy: 0.7919 - val_loss: 0.6275 - val_accuracy: 0.6744 - 80s/epoch - 105ms/step\n",
      "Epoch 9/15\n",
      "\n",
      "Epoch 9: val_accuracy did not improve from 0.67638\n",
      "764/764 - 79s - loss: 0.3774 - accuracy: 0.8142 - val_loss: 0.7218 - val_accuracy: 0.6738 - 79s/epoch - 104ms/step\n",
      "Epoch 10/15\n",
      "\n",
      "Epoch 10: val_accuracy did not improve from 0.67638\n",
      "Restoring model weights from the end of the best epoch: 7.\n",
      "764/764 - 79s - loss: 0.3458 - accuracy: 0.8310 - val_loss: 0.7580 - val_accuracy: 0.6711 - 79s/epoch - 104ms/step\n",
      "Epoch 10: early stopping\n"
     ]
    }
   ],
   "source": [
    "# Save the best model (based on validation accuracy)\n",
    "checkpoint_cb = ModelCheckpoint(\n",
    "    filepath='model/best_model.h5',\n",
    "    save_best_only=True,\n",
    "    monitor='val_accuracy',\n",
    "    mode='max',\n",
    "    verbose=1\n",
    ")\n",
    "\n",
    "# Stop training early if validation accuracy doesn’t improve\n",
    "earlystop_cb = EarlyStopping(\n",
    "    monitor='val_accuracy',\n",
    "    patience=3,\n",
    "    restore_best_weights=True,\n",
    "    verbose=1\n",
    ")\n",
    "\n",
    "# train_generator = DataGenerator(X_train, y_train, batch_size=32)\n",
    "# val_generator = DataGenerator(X_val, y_val, batch_size=32)\n",
    "\n",
    "#Train the model\n",
    "history = model.fit(\n",
    "    train_dataset,\n",
    "    validation_data=val_dataset,\n",
    "    epochs=15,\n",
    "    callbacks=[checkpoint_cb, earlystop_cb],\n",
    "    verbose=2\n",
    ")\n",
    "\n"
   ]
  },
  {
   "cell_type": "markdown",
   "id": "af366c29",
   "metadata": {},
   "source": [
    "### Plot Training History"
   ]
  },
  {
   "cell_type": "code",
   "execution_count": 18,
   "id": "ad3c5d74",
   "metadata": {},
   "outputs": [
    {
     "data": {
      "image/png": "[encoded data removed]",
      "text/plain": [
       "<Figure size 640x480 with 1 Axes>"
      ]
     },
     "metadata": {},
     "output_type": "display_data"
    },
    {
     "data": {
      "image/png": "[encoded data removed]",
      "text/plain": [
       "<Figure size 640x480 with 1 Axes>"
      ]
     },
     "metadata": {},
     "output_type": "display_data"
    }
   ],
   "source": [
    "# Accuracy plot\n",
    "plt.plot(history.history['accuracy'], label='Train Accuracy')\n",
    "plt.plot(history.history['val_accuracy'], label='Validation Accuracy')\n",
    "plt.title('Model Accuracy')\n",
    "plt.xlabel('Epoch')\n",
    "plt.ylabel('Accuracy')\n",
    "plt.legend()\n",
    "plt.show()\n",
    "\n",
    "# Loss plot\n",
    "plt.plot(history.history['loss'], label='Train Loss')\n",
    "plt.plot(history.history['val_loss'], label='Validation Loss')\n",
    "plt.title('Model Loss')\n",
    "plt.xlabel('Epoch')\n",
    "plt.ylabel('Loss')\n",
    "plt.legend()\n",
    "plt.show()\n"
   ]
  },
  {
   "cell_type": "markdown",
   "id": "adab7f43",
   "metadata": {},
   "source": [
    "## Test the Model on the Test Set"
   ]
  },
  {
   "cell_type": "code",
   "execution_count": 19,
   "metadata": {},
   "outputs": [
    {
     "name": "stdout",
     "output_type": "stream",
     "text": [
      "✅ Test Accuracy: 0.6660\n"
     ]
    }
   ],
   "source": [
    "# Load the best saved model\n",
    "best_model = load_model(\"model/best_model.h5\")\n",
    "\n",
    "\n",
    "# Evaluate on test set\n",
    "loss, accuracy = best_model.evaluate(test_dataset, verbose=0)\n",
    "print(f\"✅ Test Accuracy: {accuracy:.4f}\")\n"
   ]
  },
  {
   "cell_type": "markdown",
   "id": "b273ae5c",
   "metadata": {},
   "source": [
    "### Inference Function for Custom Input"
   ]
  },
  {
   "cell_type": "code",
   "execution_count": 20,
   "id": "f345a95b",
   "metadata": {},
   "outputs": [],
   "source": [
    "# Inferencing function\n",
    "def predict_sentiment(text):\n",
    "    # Clean input text\n",
    "    cleaned = clean_text(text)\n",
    "    \n",
    "    # Tokenize and pad\n",
    "    seq = tokenizer.texts_to_sequences([cleaned])\n",
    "    padded = pad_sequences(seq, maxlen=100, padding='post', truncating='post')\n",
    "\n",
    "    # Predict\n",
    "    prediction = best_model.predict(padded)[0][0]\n",
    "    sentiment = \"Positive Review\" if prediction > 0.5 else \"Negative Review\"\n",
    "    \n",
    "    print(f\"Input: {text}\")\n",
    "    print(f\"Predicted Sentiment: {sentiment} (Confidence: {prediction:.2f})\")\n",
    "    return sentiment\n"
   ]
  },
  {
   "cell_type": "code",
   "execution_count": 21,
   "id": "9bc341e6",
   "metadata": {},
   "outputs": [
    {
     "name": "stdout",
     "output_type": "stream",
     "text": [
      "1/1 [==============================] - 1s 1s/step\n",
      "Input: I absolutely loved the product! Totally worth the money.\n",
      "Predicted Sentiment: Positive Review (Confidence: 0.74)\n",
      "1/1 [==============================] - 0s 50ms/step\n",
      "Input: Terrible quality. It broke after two days.\n",
      "Predicted Sentiment: Negative Review (Confidence: 0.11)\n",
      "1/1 [==============================] - 0s 41ms/step\n",
      "Input: It's okay, not the best, not the worst.\n",
      "Predicted Sentiment: Negative Review (Confidence: 0.09)\n"
     ]
    },
    {
     "data": {
      "text/plain": [
       "'Negative Review'"
      ]
     },
     "execution_count": 21,
     "metadata": {},
     "output_type": "execute_result"
    }
   ],
   "source": [
    "# Inferencing\n",
    "predict_sentiment(\"I absolutely loved the product! Totally worth the money.\")\n",
    "predict_sentiment(\"Terrible quality. It broke after two days.\")\n",
    "predict_sentiment(\"It's okay, not the best, not the worst.\")\n"
   ]
  }
 ],
 "metadata": {
  "kernelspec": {
   "display_name": "modeling_env",
   "language": "python",
   "name": "python3"
  },
  "language_info": {
   "codemirror_mode": {
    "name": "ipython",
    "version": 3
   },
   "file_extension": ".py",
   "mimetype": "text/x-python",
   "name": "python",
   "nbconvert_exporter": "python",
   "pygments_lexer": "ipython3",
   "version": "3.10.13"
  }
 },
 "nbformat": 4,
 "nbformat_minor": 5
}
